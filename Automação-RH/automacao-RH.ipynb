{
 "cells": [
  {
   "cell_type": "markdown",
   "id": "d7793329",
   "metadata": {},
   "source": [
    "<h4>RH</h4>"
   ]
  },
  {
   "cell_type": "code",
   "execution_count": 36,
   "id": "d44fc6e8",
   "metadata": {},
   "outputs": [],
   "source": [
    "!pip install pyautogui pillow mouseinfo"
   ]
  },
  {
   "cell_type": "markdown",
   "id": "493d02d0",
   "metadata": {},
   "source": [
    "<h3>Descrição do Projeto:</h3>\n",
    "Automação de Relatórios de Ponto Eletrônico. Objetivo do Projeto: Implementar um sistema de automação para a geração de relatórios de ponto eletrônico, visando otimizar o processo de controle de jornada de trabalho dos colaboradores, reduzir erros manuais e aumentar a eficiência do departamento de Recursos Humanos."
   ]
  },
  {
   "cell_type": "code",
   "execution_count": null,
   "id": "3ecc50f7",
   "metadata": {},
   "outputs": [],
   "source": []
  },
  {
   "cell_type": "code",
   "execution_count": null,
   "id": "286f403c",
   "metadata": {},
   "outputs": [],
   "source": []
  },
  {
   "cell_type": "code",
   "execution_count": 6,
   "id": "1e955bf9",
   "metadata": {},
   "outputs": [],
   "source": [
    "# selenium 4\n",
    "import time\n",
    "import datetime\n",
    "import pyautogui\n",
    "from selenium.webdriver.common.by import By\n",
    "from selenium import webdriver\n",
    "from selenium.webdriver.edge.service import Service as EdgeService\n",
    "from webdriver_manager.microsoft import EdgeChromiumDriverManager\n",
    "\n",
    "driver = webdriver.Edge() #(service=EdgeService(EdgeChromiumDriverManager().install()))\n",
    "time.sleep(2)\n",
    "driver.get(\"https://www.#######.com.br/Dimep/Account/LogOn?ReturnUrl=%2FDimep%2FPonto\")\n",
    "time.sleep(2)\n",
    "#driver.window().maximize()\n",
    "driver.maximize_window() \n",
    "\n",
    "\n",
    "time.sleep(2)\n",
    "driver.find_element(By.XPATH,\n",
    "                    '/html/body/form/div[1]/header/div[1]/div[2]/div/div/div[1]/div/input').send_keys(\"#########.com.br\")\n",
    "time.sleep(2)\n",
    "driver.find_element(By.XPATH,\n",
    "                     '/html/body/form/div[1]/header/div[1]/div[2]/div/div/div[2]/div/input').send_keys(\"####$$$$$$*\")\n",
    "\n",
    "time.sleep(2)\n",
    "driver.find_element(By.XPATH,\n",
    "                     '/html/body/form/div[1]/header/div[1]/div[2]/div/div/button').click()\n",
    "\n",
    "time.sleep(2)\n",
    "driver.find_element(By.XPATH,\n",
    "                    '/html/body/header/div[2]/div[2]/span[2]').click()\n",
    "\n",
    "time.sleep(2)\n",
    "driver.find_element(By.XPATH,\n",
    "                    '/html/body/div[1]/div[5]/div[1]/div/div[1]/div[2]/div[1]/div[2]/div').click()\n",
    "time.sleep(2)\n",
    "# Pega a data e hora atual do sistema\n",
    "data_atual = datetime.datetime.now()\n",
    "\n",
    "#Formata a data conforme necessário\n",
    "data_formatada = data_atual.strftime(\"%d/%m/%Y\")\n",
    "time.sleep(2)\n",
    "driver.find_element(By.XPATH,\n",
    "                    '/html/body/div[1]/div[5]/div[1]/div/div[1]/div[2]/div[2]/div[2]/div/form/div[1]/div[1]/div/input').click()\n",
    "time.sleep(2)\n",
    "data= driver.find_element(By.XPATH,\n",
    "                          '/html/body/div[1]/div[5]/div[1]/div/div[1]/div[2]/div[2]/div[2]/div/form/div[1]/div[1]/div/input')\n",
    "\n",
    "data.send_keys(data_formatada)\n",
    "time.sleep(2)\n",
    "\n",
    "driver.find_element(By.XPATH,\n",
    "                    '/html/body/div[1]/div[5]/div[1]/div/div[1]/div[2]/div[2]/div[2]/div/form/div[1]/div[2]/div/input').click()\n",
    "time.sleep(2)\n",
    "data01= driver.find_element(By.XPATH,\n",
    "                            '/html/body/div[1]/div[5]/div[1]/div/div[1]/div[2]/div[2]/div[2]/div/form/div[1]/div[2]/div/input')\n",
    "time.sleep(2)\n",
    "data01.send_keys(data_formatada)\n",
    "time.sleep(2)\n",
    "driver.find_element(By.XPATH,\n",
    "                     '/html/body/div[1]/div[5]/div[1]/div/div[2]/div[2]/div/label').click()\n",
    "\n",
    "\n",
    "time.sleep(2)\n",
    "pyautogui.click(x=584,y=675, duration=2)\n",
    "\n",
    "time.sleep(2)\n",
    "pyautogui.click(x=389,y=765, duration=1)\n",
    "time.sleep(2)\n",
    "pyautogui.click(x=223,y=198, duration=3)\n",
    "\n",
    "time.sleep(2)\n",
    "#driver.quit()"
   ]
  },
  {
   "cell_type": "code",
   "execution_count": null,
   "id": "4b8f7b6f",
   "metadata": {},
   "outputs": [],
   "source": []
  },
  {
   "cell_type": "code",
   "execution_count": null,
   "id": "f0f3260b",
   "metadata": {},
   "outputs": [],
   "source": []
  }
 ],
 "metadata": {
  "kernelspec": {
   "display_name": "Python 3 (ipykernel)",
   "language": "python",
   "name": "python3"
  },
  "language_info": {
   "codemirror_mode": {
    "name": "ipython",
    "version": 3
   },
   "file_extension": ".py",
   "mimetype": "text/x-python",
   "name": "python",
   "nbconvert_exporter": "python",
   "pygments_lexer": "ipython3",
   "version": "3.10.9"
  }
 },
 "nbformat": 4,
 "nbformat_minor": 5
}

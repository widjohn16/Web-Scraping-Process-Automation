{
 "cells": [
  {
   "cell_type": "markdown",
   "id": "b2eb558b",
   "metadata": {},
   "source": [
    "<h3>Escopo do Projeto de Automação para Verificação de Atualização do Dashboard no Power BI Service</h3>"
   ]
  },
  {
   "cell_type": "markdown",
   "id": "daead4d2",
   "metadata": {},
   "source": [
    "<h4>Introdução</h4>\n",
    "<li>\n",
    "Este projeto tem como objetivo desenvolver uma automação que verifique regularmente se os dashboards no Power BI Service estão sendo atualizados conforme o esperado. A automação deve notificar a equipe responsável em caso de falhas ou atrasos nas atualizações.</li>\n",
    "\n",
    "<h4>Objetivos</h4>\n",
    "<li>Verificar a atualização dos dashboards no Power BI Service em intervalos regulares.\n",
    "Identificar e reportar falhas ou atrasos na atualização dos dashboards.\n",
    "Notificar a equipe responsável através de e-mails ou outras ferramentas de comunicação.\n",
    "Prover um relatório semanal de status das atualizações dos dashboards.</li>"
   ]
  },
  {
   "cell_type": "markdown",
   "id": "7f27b92c",
   "metadata": {},
   "source": [
    "<h4>Escopo</h4>\n",
    "\n",
    "<li>Funcionalidades Principais\n",
    "Monitoramento Automático: A automação deve monitorar os dashboards em intervalos pré-definidos (por exemplo, a cada hora).\n",
    "Detecção de Falhas: Identificação de dashboards que não foram atualizados dentro do tempo esperado.\n",
    "Notificações: Envio de notificações automáticas para a equipe responsável em caso de falhas ou atrasos.\n",
    "Relatórios: Geração de relatórios semanais detalhando o status de atualização de todos os dashboards monitorados.</li>"
   ]
  },
  {
   "cell_type": "code",
   "execution_count": 41,
   "id": "6d776474",
   "metadata": {},
   "outputs": [],
   "source": [
    "#!pip install -qq webdriver-manager\n",
    "#!pip install -U selenium\n",
    "#!pip install chromedriver-binary"
   ]
  },
  {
   "cell_type": "code",
   "execution_count": 2,
   "id": "f6d5a0b8",
   "metadata": {},
   "outputs": [],
   "source": [
    "#Import as bibliotecas\n",
    "import win32com.client as win32 # Biblioteca para envio de email pelo Outlook\n",
    "from datetime import datetime # Biblioteca para gestao de tempo\n",
    "from plyer import notification # Biblioteca para notificaao\n",
    "from PIL import Image,ImageGrab\n",
    "import os \n",
    "import warnings\n",
    "warnings.simplefilter(\"ignore\")\n",
    "\n",
    "# selenium 4\n",
    "import time\n",
    "from selenium.webdriver.common.by import By\n",
    "from selenium import webdriver\n",
    "from selenium.webdriver.edge.service import Service as EdgeService\n",
    "from webdriver_manager.microsoft import EdgeChromiumDriverManager\n",
    "#Instancia a clase webdriver\n",
    "driver = webdriver.Edge() #(service=EdgeService(EdgeChromiumDriverManager().install()))\n",
    "time.sleep(10)\n",
    "driver.get(\"https://app.powerbi.com/\")\n",
    "driver.maximize_window()\n",
    "time.sleep(10)\n",
    "time.sleep(3)\n",
    "driver.find_element(By.XPATH, \n",
    "                     '/html/body/div/form[1]/div/div/div[2]/div[1]/div/div/div/div/div/div[3]/div/div/div/div[2]/div/div/div[4]/div/div/div[2]').click()\n",
    "\n",
    "time.sleep(5)\n",
    "driver.find_element(By.XPATH, \n",
    "                     '/html/body/div/form[1]/div/div/div[2]/div[1]/div/div/div/div/div[1]/div[3]/div/div/div/div[2]/div[2]/div/input[1]').send_keys(\"comercial.powerbi@solargroup.com.br\")\n",
    "time.sleep(5)\n",
    "driver.find_element(By.XPATH,\n",
    "                     '/html/body/div/form[1]/div/div/div[2]/div[1]/div/div/div/div/div[1]/div[3]/div/div/div/div[4]/div/div/div/div[2]/input').click()\n",
    "time.sleep(5)\n",
    "driver.find_element(By.XPATH,\n",
    "                    '/html/body/div/form[1]/div/div/div[2]/div[1]/div/div/div/div/div/div[3]/div/div[2]/div/div[3]/div/div[2]/input').send_keys(\"#######@\")\n",
    "time.sleep(5)\n",
    "time.sleep(5)\n",
    "driver.find_element(By.XPATH,\n",
    "                     '/html/body/div/form[1]/div/div/div[2]/div[1]/div/div/div/div/div/div[3]/div/div[2]/div/div[5]/div/div/div/div/input').click()\n",
    "time.sleep(5)\n",
    "driver.find_element(By.XPATH,\n",
    "                     '/html/body/div/form/div/div/div[2]/div[1]/div/div/div/div/div/div[3]/div/div[2]/div/div[3]/div[2]/div/div/div[2]/input').click()\n",
    "time.sleep(10)\n",
    "driver.find_element(By.XPATH,\n",
    "                    '/html/body/div[1]/root/mat-sidenav-container/mat-sidenav-content/tri-shell-panel-outlet/tri-item-renderer-panel/tri-extension-panel-outlet/mat-sidenav-container/mat-sidenav-content/div/div/div[1]/tri-shell/tri-item-renderer/tri-extension-page-outlet/div[2]/home/div/div[2]/div[2]/recents-widget/fluent-home-list/fluent-list-table-base/div/virtual-scroll/div[2]/div[1]/div[2]/div/span').click()\n",
    "time.sleep(20)\n",
    "\n",
    "# Captura a tela\n",
    "#screenshot = ImageGrab.grab()\n",
    "#screenshot_path = 'screenshot.png'\n",
    "#imagem=screenshot.save(screenshot_path)\n",
    "\n",
    "driver.save_screenshot(\"image.png\")\n",
    "image = Image.open(\"image.png\") \n",
    "image.show()\n",
    "\n",
    "time.sleep(10)\n",
    "# enviar um email com o relatório\n",
    "outlook = win32.Dispatch('outlook.application')\n",
    "mail = outlook.CreateItem(0)\n",
    "mail.To = 'johnny.achille@solargroup.com.br'\n",
    "#mail.To = 'alan.ciarma@solargroup.com.br'\n",
    "#mail.To = 'inaldo.tavares@solargroup.com.br'\n",
    "mail.Subject = 'Vericação da atualização de BI'\n",
    "mail.HTMLBody = f'''\n",
    "\n",
    "<p>Prezados,</p>\n",
    "\n",
    "<p>Por favor,Segue o harario da atualização de BI.</p>\n",
    "\n",
    "\n",
    "<p>Qualquer dúvida estou à disposição.</p>\n",
    "\n",
    "<p>Att.,</p>\n",
    "<p>johnny</p>\n",
    "'''\n",
    "# Anexa a imagem ao e-mail\n",
    "#attachment = mail.Attachments.Add(imagem)\n",
    "\n",
    "mail.Send()\n",
    "time.sleep(3)\n",
    "# Display Notifiction to User\n",
    "notification.notify(title=\"Report Status!!!\",\n",
    "                   message=f\"Sales data has been successfully saved into Excel\")\n",
    "\n",
    "\n",
    "\n",
    "# Sair da pagina\n",
    "driver.quit()"
   ]
  },
  {
   "cell_type": "code",
   "execution_count": null,
   "id": "bd76d479",
   "metadata": {},
   "outputs": [],
   "source": []
  },
  {
   "cell_type": "code",
   "execution_count": null,
   "id": "c4bb5679",
   "metadata": {},
   "outputs": [],
   "source": []
  },
  {
   "cell_type": "code",
   "execution_count": null,
   "id": "389545f3",
   "metadata": {},
   "outputs": [],
   "source": []
  },
  {
   "cell_type": "code",
   "execution_count": null,
   "id": "1365d43d",
   "metadata": {},
   "outputs": [],
   "source": []
  },
  {
   "cell_type": "code",
   "execution_count": null,
   "id": "633730fa",
   "metadata": {},
   "outputs": [],
   "source": []
  },
  {
   "cell_type": "code",
   "execution_count": null,
   "id": "b0144db5",
   "metadata": {},
   "outputs": [],
   "source": []
  },
  {
   "cell_type": "code",
   "execution_count": null,
   "id": "caff7b80",
   "metadata": {},
   "outputs": [],
   "source": []
  },
  {
   "cell_type": "code",
   "execution_count": null,
   "id": "09e339f2",
   "metadata": {},
   "outputs": [],
   "source": []
  },
  {
   "cell_type": "code",
   "execution_count": null,
   "id": "98ef3a19",
   "metadata": {},
   "outputs": [],
   "source": []
  }
 ],
 "metadata": {
  "kernelspec": {
   "display_name": "Python 3 (ipykernel)",
   "language": "python",
   "name": "python3"
  },
  "language_info": {
   "codemirror_mode": {
    "name": "ipython",
    "version": 3
   },
   "file_extension": ".py",
   "mimetype": "text/x-python",
   "name": "python",
   "nbconvert_exporter": "python",
   "pygments_lexer": "ipython3",
   "version": "3.10.9"
  }
 },
 "nbformat": 4,
 "nbformat_minor": 5
}
